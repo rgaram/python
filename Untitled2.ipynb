{
 "cells": [
  {
   "cell_type": "code",
   "execution_count": 1,
   "id": "07347794-fa7f-4856-9490-76ee2ee5ea88",
   "metadata": {},
   "outputs": [
    {
     "name": "stdout",
     "output_type": "stream",
     "text": [
      "^GSPC 티커 목록을 가져오는 중 오류 발생: 'Ticker' object has no attribute 'components'\n",
      "^KS11 티커 목록을 가져오는 중 오류 발생: 'Ticker' object has no attribute 'components'\n"
     ]
    }
   ],
   "source": [
    "import yfinance as yf\n",
    "import pandas as pd\n",
    "import os\n",
    "\n",
    "def get_tickers(index_name):\n",
    "    \"\"\"\n",
    "    지정된 주가지수의 티커 목록을 야후 파이낸스에서 가져오는 함수\n",
    "    \"\"\"\n",
    "    try:\n",
    "        index = yf.Ticker(index_name)\n",
    "        components = index.components\n",
    "        if components is not None:  # components가 None이 아닌 경우에만 실행\n",
    "            tickers = [component.ticker for component in components]\n",
    "            return tickers\n",
    "        else:\n",
    "            print(f\"{index_name}에서 티커 목록을 찾을 수 없습니다. components 속성이 None입니다.\")\n",
    "            return None\n",
    "    except Exception as e:\n",
    "        print(f\"{index_name} 티커 목록을 가져오는 중 오류 발생: {e}\")\n",
    "        return None\n",
    "\n",
    "def save_to_excel(tickers, filename):\n",
    "    \"\"\"\n",
    "    티커 목록을 엑셀 파일에 저장하는 함수\n",
    "    \"\"\"\n",
    "    try:\n",
    "        df = pd.DataFrame({'Ticker': tickers})\n",
    "        if os.path.exists(filename):\n",
    "            # 기존 파일에 데이터 추가 (append)\n",
    "            existing_df = pd.read_excel(filename)\n",
    "            updated_df = pd.concat([existing_df, df], ignore_index=True)\n",
    "            updated_df.to_excel(filename, index=False)\n",
    "        else:\n",
    "            # 새 파일 생성\n",
    "            df.to_excel(filename, index=False)\n",
    "        print(f\"티커 목록이 {filename}에 저장되었습니다.\")\n",
    "    except Exception as e:\n",
    "        print(f\"엑셀 파일 저장 중 오류 발생: {e}\")\n",
    "\n",
    "if __name__ == \"__main__\":\n",
    "    # S&P 500 지수 티커를 가져와서 엑셀에 저장\n",
    "    sp500_tickers = get_tickers(\"^GSPC\")  # S&P 500 지수 코드\n",
    "    if sp500_tickers:\n",
    "        save_to_excel(sp500_tickers, \"sp500_tickers.xlsx\")\n",
    "\n",
    "    # KOSPI 지수 티커를 가져와서 엑셀에 저장\n",
    "    kospi_tickers = get_tickers(\"^KS11\")  # KOSPI 지수 코드\n",
    "    if kospi_tickers:\n",
    "        save_to_excel(kospi_tickers, \"kospi_tickers.xlsx\")"
   ]
  },
  {
   "cell_type": "code",
   "execution_count": null,
   "id": "6f7af0ee-c771-4f68-a44a-0cd13f4305d1",
   "metadata": {},
   "outputs": [],
   "source": []
  }
 ],
 "metadata": {
  "kernelspec": {
   "display_name": "Python [conda env:base] *",
   "language": "python",
   "name": "conda-base-py"
  },
  "language_info": {
   "codemirror_mode": {
    "name": "ipython",
    "version": 3
   },
   "file_extension": ".py",
   "mimetype": "text/x-python",
   "name": "python",
   "nbconvert_exporter": "python",
   "pygments_lexer": "ipython3",
   "version": "3.12.7"
  }
 },
 "nbformat": 4,
 "nbformat_minor": 5
}
