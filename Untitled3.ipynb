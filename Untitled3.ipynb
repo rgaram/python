{
 "cells": [
  {
   "cell_type": "markdown",
   "id": "fa904695-100e-4e74-9238-c97c7ca3ecb8",
   "metadata": {},
   "source": [
    "import yfinance as yf\n",
    "import pandas as pd\n",
    "from datetime import datetime\n",
    "\n",
    "def get_stock_data(ticker, start_date, end_date):\n",
    "  \"\"\"\n",
    "  특정 주식 티커의 데이터를 가져오는 함수\n",
    "\n",
    "  Args:\n",
    "    ticker (str): 주식 티커 (예: AAPL, MSFT)\n",
    "    start_date (str): 데이터 시작 날짜 (YYYY-MM-DD 형식)\n",
    "    end_date (str): 데이터 종료 날짜 (YYYY-MM-DD 형식)\n",
    "\n",
    "  Returns:\n",
    "    pandas.DataFrame: 주식 데이터\n",
    "  \"\"\"\n",
    "  try:\n",
    "    data = yf.download(ticker, start=start_date, end=end_date)\n",
    "    return data\n",
    "  except Exception as e:\n",
    "    print(f\"Error fetching data for {ticker}: {e}\")\n",
    "    return None\n",
    "\n",
    "def add_to_excel(df, filename, sheet_name):\n",
    "  \"\"\"\n",
    "  데이터프레임을 엑셀 파일에 추가하는 함수\n",
    "\n",
    "  Args:\n",
    "    df (pandas.DataFrame): 주식 데이터\n",
    "    filename (str): 엑셀 파일 이름\n",
    "    sheet_name (str): 엑셀 시트 이름\n",
    "  \"\"\"\n",
    "  try:\n",
    "    with pd.ExcelWriter(filename, engine='openpyxl', mode='a', if_sheet_exists='replace') as writer:\n",
    "      df.to_excel(writer, sheet_name=sheet_name)\n",
    "    print(f\"Data appended to {filename}, sheet {sheet_name}\")\n",
    "  except Exception as e:\n",
    "    print(f\"Error writing to Excel: {e}\")\n",
    "\n",
    "if __name__ == \"__main__\":\n",
    "  # 주식 티커 목록\n",
    "  tickers = [\"AAPL\", \"MSFT\", \"GOOG\", \"AMZN\"]\n",
    "\n",
    "  # 데이터 기간 설정 (오늘 날짜 기준)\n",
    "  end_date = datetime.now().strftime(\"%Y-%m-%d\")\n",
    "  start_date = \"2024-01-01\"  # 예시: 2024년 1월 1일부터\n",
    "\n",
    "  # 엑셀 파일 이름 및 시트 이름\n",
    "  filename = \"stock_data.xlsx\"\n",
    "  sheet_name = \"Sheet1\"\n",
    "\n",
    "  for ticker in tickers:\n",
    "    data = get_stock_data(ticker, start_date, end_date)\n",
    "    if data is not None:\n",
    "      add_to_excel(data, filename, sheet_name)"
   ]
  },
  {
   "cell_type": "code",
   "execution_count": 3,
   "id": "3f93a6c4-b7ad-48a1-889d-a83998db26a1",
   "metadata": {},
   "outputs": [
    {
     "name": "stderr",
     "output_type": "stream",
     "text": [
      "[*********************100%***********************]  9 of 9 completed\n",
      "[*********************100%***********************]  9 of 9 completed\n"
     ]
    },
    {
     "name": "stdout",
     "output_type": "stream",
     "text": [
      "Ticker            DBC        EDV        EEM        EFA       EMLC         GLD  \\\n",
      "Date                                                                            \n",
      "2025-02-20  22.980000  68.599998  45.029999  82.050003  23.889999  270.989990   \n",
      "2025-02-21  22.660000  69.769997  44.900002  81.540001  23.850000  270.739990   \n",
      "2025-02-24  22.580000  70.089996  44.209999  81.489998  23.860001  272.209991   \n",
      "2025-02-25  22.330000  71.760002  44.240002  82.230003  23.910000  268.619995   \n",
      "2025-02-26  22.139999  72.440002  44.680000  82.339996  23.900000  269.029999   \n",
      "\n",
      "Ticker             LQD       LTPZ         SPY  \n",
      "Date                                           \n",
      "2025-02-20  107.870003  53.630001  610.380005  \n",
      "2025-02-21  108.250000  54.080002  599.940002  \n",
      "2025-02-24  108.529999  54.279999  597.210022  \n",
      "2025-02-25  109.360001  54.939999  594.239990  \n",
      "2025-02-26  109.589996  55.080002  594.539978  \n"
     ]
    }
   ],
   "source": [
    "import yfinance as yf\n",
    "import yfinance as yf\n",
    "\n",
    "# 조회할 ETF 티커 리스트\n",
    "tickers = [\"SPY\", \"EFA\", \"EEM\", \"DBC\", \"GLD\", \"EDV\", \"LTPZ\", \"LQD\", \"EMLC\"]\n",
    "# tickers = \"SPY\"\n",
    "\n",
    "# 세션 생성 후 다운로드 시도\n",
    "session = yf.download(tickers, period=\"1y\")\n",
    "\n",
    "# 데이터 가져오기 (최근 1년치 종가)\n",
    "data = yf.download(tickers, period=\"1y\")[\"Close\"]\n",
    "\n",
    "# 데이터 확인\n",
    "print(data.tail())  # 최근 5개 데이터 출력"
   ]
  },
  {
   "cell_type": "code",
   "execution_count": 9,
   "id": "df61b01c-b0fc-4c3d-a1af-7b15f5bf6a4f",
   "metadata": {},
   "outputs": [
    {
     "name": "stdout",
     "output_type": "stream",
     "text": [
      "Requirement already satisfied: yfinance in /opt/anaconda3/lib/python3.12/site-packages (0.2.51)\n",
      "Collecting yfinance\n",
      "  Downloading yfinance-0.2.54-py2.py3-none-any.whl.metadata (5.8 kB)\n",
      "Requirement already satisfied: pandas>=1.3.0 in /opt/anaconda3/lib/python3.12/site-packages (from yfinance) (2.2.2)\n",
      "Requirement already satisfied: numpy>=1.16.5 in /opt/anaconda3/lib/python3.12/site-packages (from yfinance) (1.26.4)\n",
      "Requirement already satisfied: requests>=2.31 in /opt/anaconda3/lib/python3.12/site-packages (from yfinance) (2.32.3)\n",
      "Requirement already satisfied: multitasking>=0.0.7 in /opt/anaconda3/lib/python3.12/site-packages (from yfinance) (0.0.11)\n",
      "Requirement already satisfied: platformdirs>=2.0.0 in /opt/anaconda3/lib/python3.12/site-packages (from yfinance) (3.10.0)\n",
      "Requirement already satisfied: pytz>=2022.5 in /opt/anaconda3/lib/python3.12/site-packages (from yfinance) (2024.1)\n",
      "Requirement already satisfied: frozendict>=2.3.4 in /opt/anaconda3/lib/python3.12/site-packages (from yfinance) (2.4.2)\n",
      "Requirement already satisfied: peewee>=3.16.2 in /opt/anaconda3/lib/python3.12/site-packages (from yfinance) (3.17.8)\n",
      "Requirement already satisfied: beautifulsoup4>=4.11.1 in /opt/anaconda3/lib/python3.12/site-packages (from yfinance) (4.12.3)\n",
      "Requirement already satisfied: soupsieve>1.2 in /opt/anaconda3/lib/python3.12/site-packages (from beautifulsoup4>=4.11.1->yfinance) (2.5)\n",
      "Requirement already satisfied: python-dateutil>=2.8.2 in /opt/anaconda3/lib/python3.12/site-packages (from pandas>=1.3.0->yfinance) (2.9.0.post0)\n",
      "Requirement already satisfied: tzdata>=2022.7 in /opt/anaconda3/lib/python3.12/site-packages (from pandas>=1.3.0->yfinance) (2023.3)\n",
      "Requirement already satisfied: charset-normalizer<4,>=2 in /opt/anaconda3/lib/python3.12/site-packages (from requests>=2.31->yfinance) (3.3.2)\n",
      "Requirement already satisfied: idna<4,>=2.5 in /opt/anaconda3/lib/python3.12/site-packages (from requests>=2.31->yfinance) (3.7)\n",
      "Requirement already satisfied: urllib3<3,>=1.21.1 in /opt/anaconda3/lib/python3.12/site-packages (from requests>=2.31->yfinance) (2.2.3)\n",
      "Requirement already satisfied: certifi>=2017.4.17 in /opt/anaconda3/lib/python3.12/site-packages (from requests>=2.31->yfinance) (2024.12.14)\n",
      "Requirement already satisfied: six>=1.5 in /opt/anaconda3/lib/python3.12/site-packages (from python-dateutil>=2.8.2->pandas>=1.3.0->yfinance) (1.16.0)\n",
      "Downloading yfinance-0.2.54-py2.py3-none-any.whl (108 kB)\n",
      "Installing collected packages: yfinance\n",
      "  Attempting uninstall: yfinance\n",
      "    Found existing installation: yfinance 0.2.51\n",
      "    Uninstalling yfinance-0.2.51:\n",
      "      Successfully uninstalled yfinance-0.2.51\n",
      "Successfully installed yfinance-0.2.54\n",
      "Note: you may need to restart the kernel to use updated packages.\n"
     ]
    }
   ],
   "source": [
    "pip install --upgrade yfinance"
   ]
  },
  {
   "cell_type": "code",
   "execution_count": 5,
   "id": "fde9910f-e7a5-4740-9375-9435436d878b",
   "metadata": {},
   "outputs": [
    {
     "name": "stderr",
     "output_type": "stream",
     "text": [
      "[*********************100%***********************]  1 of 1 completed"
     ]
    },
    {
     "name": "stdout",
     "output_type": "stream",
     "text": [
      "오류 발생: 'Close'\n"
     ]
    },
    {
     "name": "stderr",
     "output_type": "stream",
     "text": [
      "\n"
     ]
    }
   ],
   "source": [
    "import yfinance as yf\n",
    "import pandas as pd\n",
    "from openpyxl import load_workbook, Workbook\n",
    "import os\n",
    "\n",
    "def get_stock_close_and_append_to_excel(ticker, file_name=\"stock_data.xlsx\", sheet_name=\"B\"):\n",
    "    \"\"\"\n",
    "    주식 종가 정보를 가져와 엑셀 파일에 추가하고, 파일이 없으면 새로 생성합니다.\n",
    "\n",
    "    Args:\n",
    "        ticker (str): 주식 티커 (예: AAPL, GOOG)\n",
    "        file_name (str): 엑셀 파일 이름\n",
    "        sheet_name (str): 시트 이름\n",
    "    \"\"\"\n",
    "    try:\n",
    "        stock_data = yf.download(ticker, period=\"1y\")\n",
    "        close_prices = stock_data[\"Close\"]\n",
    "        df = pd.DataFrame(close_prices)\n",
    "\n",
    "        # 엑셀 파일 존재 여부 확인\n",
    "        if os.path.exists(file_name):\n",
    "            book = load_workbook(file_name)\n",
    "            if sheet_name not in book.sheetnames: # 시트가 존재하는지 체크\n",
    "                sheet = book.create_sheet(sheet_name) # 시트가 없으면 생성\n",
    "            else:\n",
    "                sheet = book[sheet_name]\n",
    "        else:\n",
    "            # 엑셀 파일 생성\n",
    "            book = Workbook()\n",
    "            sheet = book.create_sheet(sheet_name)\n",
    "            # 기본 헤더 추가 (날짜)\n",
    "            sheet.cell(row=1, column=1).value = \"날짜\"\n",
    "\n",
    "        # 마지막 열 찾기\n",
    "        last_col = sheet.max_column + 1\n",
    "        sheet.cell(row=1, column=last_col).value = ticker  # 헤더에 티커 추가\n",
    "\n",
    "        # 데이터 추가\n",
    "        for index, value in enumerate(df[\"Close\"]):\n",
    "            sheet.cell(row=index + 2, column=last_col).value = value\n",
    "\n",
    "        book.save(file_name)\n",
    "        print(f\"{ticker} 종가 정보가 {file_name}의 {sheet_name} 시트에 추가되었습니다.\")\n",
    "\n",
    "    except Exception as e:\n",
    "        print(f\"오류 발생: {e}\")\n",
    "\n",
    "# 예시: 애플(AAPL) 주식 종가 정보를 엑셀 파일에 추가\n",
    "get_stock_close_and_append_to_excel(\"AAPL\")"
   ]
  },
  {
   "cell_type": "code",
   "execution_count": 7,
   "id": "81141238-d3f6-4b23-a84e-c787c8cdd994",
   "metadata": {},
   "outputs": [
    {
     "data": {
      "text/plain": [
       "'/Users/ksh'"
      ]
     },
     "execution_count": 7,
     "metadata": {},
     "output_type": "execute_result"
    }
   ],
   "source": [
    "os.getcwd()\n"
   ]
  },
  {
   "cell_type": "code",
   "execution_count": null,
   "id": "b01c0ffa-1b2a-4532-871b-1048c61675e4",
   "metadata": {},
   "outputs": [],
   "source": []
  }
 ],
 "metadata": {
  "kernelspec": {
   "display_name": "Python [conda env:base] *",
   "language": "python",
   "name": "conda-base-py"
  },
  "language_info": {
   "codemirror_mode": {
    "name": "ipython",
    "version": 3
   },
   "file_extension": ".py",
   "mimetype": "text/x-python",
   "name": "python",
   "nbconvert_exporter": "python",
   "pygments_lexer": "ipython3",
   "version": "3.12.7"
  }
 },
 "nbformat": 4,
 "nbformat_minor": 5
}
