{
 "cells": [
  {
   "cell_type": "code",
   "execution_count": null,
   "id": "9305edc5-c955-4579-9a5e-0470fab65481",
   "metadata": {},
   "outputs": [
    {
     "name": "stderr",
     "output_type": "stream",
     "text": [
      "/var/folders/8z/q3w2trbn7vq_jtw7hx_6g0vr0000gn/T/ipykernel_47759/3990625884.py:16: FutureWarning: Passing literal html to 'read_html' is deprecated and will be removed in a future version. To read from a literal string, wrap it in a 'StringIO' object.\n",
      "  fs_tables = pd.read_html(fs_page.text)\n"
     ]
    },
    {
     "name": "stdout",
     "output_type": "stream",
     "text": [
      "0번 시트\n",
      "\n"
     ]
    },
    {
     "ename": "TypeError",
     "evalue": "DataFrame.to_string() got an unexpected keyword argument 'sep'",
     "output_type": "error",
     "traceback": [
      "\u001b[0;31m---------------------------------------------------------------------------\u001b[0m",
      "\u001b[0;31mTypeError\u001b[0m                                 Traceback (most recent call last)",
      "Cell \u001b[0;32mIn[1], line 28\u001b[0m\n\u001b[1;32m     26\u001b[0m     \u001b[38;5;28mprint\u001b[39m(\u001b[38;5;28mstr\u001b[39m(i) \u001b[38;5;241m+\u001b[39m\u001b[38;5;124m'\u001b[39m\u001b[38;5;124m번 시트\u001b[39m\u001b[38;5;130;01m\\n\u001b[39;00m\u001b[38;5;124m'\u001b[39m)\n\u001b[1;32m     27\u001b[0m \u001b[38;5;66;03m#    print(fs_tables[i])\u001b[39;00m\n\u001b[0;32m---> 28\u001b[0m     \u001b[38;5;28mprint\u001b[39m(fs_tables[i]\u001b[38;5;241m.\u001b[39mto_string(sep\u001b[38;5;241m=\u001b[39m\u001b[38;5;124m'\u001b[39m\u001b[38;5;124m | \u001b[39m\u001b[38;5;124m'\u001b[39m, index\u001b[38;5;241m=\u001b[39m\u001b[38;5;28;01mFalse\u001b[39;00m, header\u001b[38;5;241m=\u001b[39m\u001b[38;5;28;01mFalse\u001b[39;00m))\n",
      "File \u001b[0;32m/opt/anaconda3/lib/python3.12/site-packages/pandas/util/_decorators.py:333\u001b[0m, in \u001b[0;36mdeprecate_nonkeyword_arguments.<locals>.decorate.<locals>.wrapper\u001b[0;34m(*args, **kwargs)\u001b[0m\n\u001b[1;32m    327\u001b[0m \u001b[38;5;28;01mif\u001b[39;00m \u001b[38;5;28mlen\u001b[39m(args) \u001b[38;5;241m>\u001b[39m num_allow_args:\n\u001b[1;32m    328\u001b[0m     warnings\u001b[38;5;241m.\u001b[39mwarn(\n\u001b[1;32m    329\u001b[0m         msg\u001b[38;5;241m.\u001b[39mformat(arguments\u001b[38;5;241m=\u001b[39m_format_argument_list(allow_args)),\n\u001b[1;32m    330\u001b[0m         \u001b[38;5;167;01mFutureWarning\u001b[39;00m,\n\u001b[1;32m    331\u001b[0m         stacklevel\u001b[38;5;241m=\u001b[39mfind_stack_level(),\n\u001b[1;32m    332\u001b[0m     )\n\u001b[0;32m--> 333\u001b[0m \u001b[38;5;28;01mreturn\u001b[39;00m func(\u001b[38;5;241m*\u001b[39margs, \u001b[38;5;241m*\u001b[39m\u001b[38;5;241m*\u001b[39mkwargs)\n",
      "\u001b[0;31mTypeError\u001b[0m: DataFrame.to_string() got an unexpected keyword argument 'sep'"
     ]
    }
   ],
   "source": [
    "import pandas as pd\n",
    "import requests\n",
    "\n",
    "# 출력 옵션 설정\n",
    "pd.set_option('display.width', 132)\n",
    "pd.set_option('display.max_colwidth', 132)\n",
    "pd.set_option('display.max_columns', None)\n",
    "pd.set_option('display.max_rows', None)\n",
    "\n",
    "fs_url = 'https://comp.fnguide.com/SVO2/ASP/SVD_Main.asp?pGB=1&gicode=A000270&cID=&MenuYn=Y&ReportGB=&NewMenuID=11&stkGb=701'\n",
    "\n",
    "try:\n",
    "    fs_page = requests.get(fs_url)\n",
    "    \n",
    "    # StringIO 객체를 사용하여 HTML 문자열 전달\n",
    "    fs_tables = pd.read_html(fs_page.text)\n",
    "    # fs_tables = pd.read_html(StringIO(fs_page.text))\n",
    "    # 테이블 처리 코드\n",
    "except Exception as e:\n",
    "    print(f\"오류 발생: {e}\")\n",
    "\n",
    "# type(fs_tables[5])\n",
    "#print(len(fs_tables))\n",
    "\n",
    "for i in range(len(fs_tables)): #fs_tables의 길이만큼 반복\n",
    "    print(str(i) +'번 시트\\n')\n",
    "    print(fs_tables[i])\n",
    "#    print(fs_tables[i].to_string(sep=' | ', index=False, header=False))\n",
    "    \n",
    "#print(df.to_csv(sep=' | ', index=False, header=True))\n",
    "\n",
    "    "
   ]
  },
  {
   "cell_type": "code",
   "execution_count": 5,
   "id": "4b38a124-d725-4274-ae9d-c8d9b3fa8282",
   "metadata": {},
   "outputs": [
    {
     "ename": "NameError",
     "evalue": "name 'code_data' is not defined",
     "output_type": "error",
     "traceback": [
      "\u001b[0;31m---------------------------------------------------------------------------\u001b[0m",
      "\u001b[0;31mNameError\u001b[0m                                 Traceback (most recent call last)",
      "Cell \u001b[0;32mIn[5], line 3\u001b[0m\n\u001b[1;32m      1\u001b[0m \u001b[38;5;28;01mimport\u001b[39;00m \u001b[38;5;21;01mtime\u001b[39;00m\n\u001b[0;32m----> 3\u001b[0m \u001b[38;5;28;01mfor\u001b[39;00m num, code \u001b[38;5;129;01min\u001b[39;00m \u001b[38;5;28menumerate\u001b[39m(\u001b[43mcode_data\u001b[49m[\u001b[38;5;124m'\u001b[39m\u001b[38;5;124m종목코드\u001b[39m\u001b[38;5;124m'\u001b[39m]):\n\u001b[1;32m      4\u001b[0m     \u001b[38;5;28;01mtry\u001b[39;00m:\n\u001b[1;32m      5\u001b[0m         \u001b[38;5;28mprint\u001b[39m(num, code)\n",
      "\u001b[0;31mNameError\u001b[0m: name 'code_data' is not defined"
     ]
    }
   ],
   "source": [
    "import time\n",
    "\n",
    "for num, code in enumerate(code_data['종목코드']):\n",
    "    try:\n",
    "        print(num, code)\n",
    "        time.sleep(1)\n",
    "        try:\n",
    "            fs_df = make_fs_dataframe(code)\n",
    "        except requests.exceptions.Timeout:\n",
    "            time.sleep(60)\n",
    "            fs_df = make_fs_dataframe(code)\n",
    "        fs_df_changed = change_df(code, fs_df)\n",
    "        if num == 0:\n",
    "            total_fs = fs_df_changed\n",
    "        else:\n",
    "            total_fs= pd.concat([total_fs, fs_df_changed])\n",
    "    except ValueError:\n",
    "        continue\n",
    "    except KeyError:\n",
    "        continue\n"
   ]
  },
  {
   "cell_type": "code",
   "execution_count": 23,
   "id": "550d2c66-bc01-4880-a70d-aa8ff282b4f0",
   "metadata": {},
   "outputs": [
    {
     "name": "stderr",
     "output_type": "stream",
     "text": [
      "/Users/ksh/miniforge3/envs/newenv/lib/python3.12/site-packages/openpyxl/styles/stylesheet.py:237: UserWarning: Workbook contains no default style, apply openpyxl's default\n",
      "  warn(\"Workbook contains no default style, apply openpyxl's default\")\n"
     ]
    }
   ],
   "source": [
    "import pandas as pd  # Ensure pandas is imported\n",
    "\n",
    "# Correct file path and extension\n",
    "path = 'data.xlsx'\n",
    "\n",
    "# Read the Excel file\n",
    "code_data = pd.read_excel(path)\n",
    "\n",
    "# Select specific columns correctly\n",
    "code_data = code_data[['단축코드', '한글 종목명']]  # Use list format for multiple columns"
   ]
  },
  {
   "cell_type": "code",
   "execution_count": 15,
   "id": "49d5d2c8-0c19-4ca2-a220-2334aa08e693",
   "metadata": {},
   "outputs": [
    {
     "ename": "NameError",
     "evalue": "name 'code_data' is not defined",
     "output_type": "error",
     "traceback": [
      "\u001b[0;31m---------------------------------------------------------------------------\u001b[0m",
      "\u001b[0;31mNameError\u001b[0m                                 Traceback (most recent call last)",
      "Cell \u001b[0;32mIn[15], line 5\u001b[0m\n\u001b[1;32m      2\u001b[0m     x \u001b[38;5;241m=\u001b[39m \u001b[38;5;28mstr\u001b[39m(x)\n\u001b[1;32m      3\u001b[0m     \u001b[38;5;28;01mreturn\u001b[39;00m \u001b[38;5;124m'\u001b[39m\u001b[38;5;124mA\u001b[39m\u001b[38;5;124m'\u001b[39m \u001b[38;5;241m+\u001b[39m \u001b[38;5;124m'\u001b[39m\u001b[38;5;124m0\u001b[39m\u001b[38;5;124m'\u001b[39m \u001b[38;5;241m*\u001b[39m (\u001b[38;5;241m6\u001b[39m \u001b[38;5;241m-\u001b[39m \u001b[38;5;28mlen\u001b[39m(x)) \u001b[38;5;241m+\u001b[39m x  \u001b[38;5;66;03m# Fixed typo\u001b[39;00m\n\u001b[0;32m----> 5\u001b[0m code_data[\u001b[38;5;124m'\u001b[39m\u001b[38;5;124m종목코드\u001b[39m\u001b[38;5;124m'\u001b[39m] \u001b[38;5;241m=\u001b[39m \u001b[43mcode_data\u001b[49m[\u001b[38;5;124m'\u001b[39m\u001b[38;5;124m종목코드\u001b[39m\u001b[38;5;124m'\u001b[39m]\u001b[38;5;241m.\u001b[39mapply(make_code)  \u001b[38;5;66;03m# Fixed brackets\u001b[39;00m\n",
      "\u001b[0;31mNameError\u001b[0m: name 'code_data' is not defined"
     ]
    }
   ],
   "source": [
    "def make_code(x):\n",
    "    x = str(x)\n",
    "    return 'A' + '0' * (6 - len(x)) + x  # Fixed typo\n",
    "\n",
    "code_data['종목코드'] = code_data['종목코드'].apply(make_code)  # Fixed brackets"
   ]
  },
  {
   "cell_type": "code",
   "execution_count": null,
   "id": "4c747a60-f7c5-44a1-94bb-bf40d0ba0d22",
   "metadata": {},
   "outputs": [],
   "source": [
    "getcwd()\n"
   ]
  },
  {
   "cell_type": "code",
   "execution_count": 9,
   "id": "2cada0d8-b6b5-4e40-b794-3e67471a34d0",
   "metadata": {},
   "outputs": [
    {
     "name": "stdout",
     "output_type": "stream",
     "text": [
      "✅ 엑셀 저장 완료: stock_list.xlsx\n"
     ]
    }
   ],
   "source": [
    "import pandas as pd\n",
    "import openpyxl \n",
    "from yahooquery import Ticker\n",
    "\n",
    "# S&P 500 종목 리스트 가져오기\n",
    "\n",
    "sp500_ticker = Ticker(\"^GSPC\")\n",
    "sp500_constituents = sp500_ticker.fund_holding_info\n",
    "\n",
    "# 데이터가 None이면 빈 리스트로 설정\n",
    "if isinstance(sp500_constituents, dict):\n",
    "    sp500_constituents = sp500_constituents.get(\"holdings\", [])\n",
    "elif sp500_constituents is None:\n",
    "    sp500_constituents = []\n",
    "\n",
    "# 종목 코드와 이름 추출\n",
    "stocks = []\n",
    "for item in sp500_constituents:\n",
    "    symbol = item.get(\"symbol\")\n",
    "    name = item.get(\"name\")\n",
    "    if symbol and name:\n",
    "        stocks.append({\"종목코드\": symbol, \"종목명\": name})\n",
    "\n",
    "# 데이터프레임 생성\n",
    "df = pd.DataFrame(stocks)\n",
    "\n",
    "# 엑셀 저장 (openpyxl 필요)\n",
    "excel_path = \"stock_list.xlsx\"\n",
    "df.to_excel(excel_path, index=False, engine=\"openpyxl\")\n",
    "\n",
    "print(f\"✅ 엑셀 저장 완료: {excel_path}\")\n"
   ]
  },
  {
   "cell_type": "code",
   "execution_count": 4,
   "id": "719208a2-a1b8-44f0-89c6-cff4588da6b1",
   "metadata": {},
   "outputs": [
    {
     "name": "stdout",
     "output_type": "stream",
     "text": [
      "Requirement already satisfied: openpyxl in ./miniforge3/envs/newenv/lib/python3.12/site-packages (3.1.5)\n",
      "Requirement already satisfied: et-xmlfile in ./miniforge3/envs/newenv/lib/python3.12/site-packages (from openpyxl) (2.0.0)\n",
      "Note: you may need to restart the kernel to use updated packages.\n"
     ]
    }
   ],
   "source": [
    "pip install openpyxl"
   ]
  },
  {
   "cell_type": "code",
   "execution_count": 21,
   "id": "908b3e15-fd5c-4747-af89-b087846b710c",
   "metadata": {},
   "outputs": [
    {
     "name": "stderr",
     "output_type": "stream",
     "text": [
      "429 Client Error: Too Many Requests for url: https://query2.finance.yahoo.com/v10/finance/quoteSummary/AAPL?modules=financialData%2CquoteType%2CdefaultKeyStatistics%2CassetProfile%2CsummaryDetail&corsDomain=finance.yahoo.com&formatted=false&symbol=AAPL&crumb=Edge%3A+Too+Many+Requests\n"
     ]
    },
    {
     "name": "stdout",
     "output_type": "stream",
     "text": [
      "AAPL 정보를 가져오는 중 오류 발생: Expecting value: line 1 column 1 (char 0)\n"
     ]
    },
    {
     "name": "stderr",
     "output_type": "stream",
     "text": [
      "429 Client Error: Too Many Requests for url: https://query2.finance.yahoo.com/v10/finance/quoteSummary/MSFT?modules=financialData%2CquoteType%2CdefaultKeyStatistics%2CassetProfile%2CsummaryDetail&corsDomain=finance.yahoo.com&formatted=false&symbol=MSFT&crumb=Edge%3A+Too+Many+Requests\n"
     ]
    },
    {
     "name": "stdout",
     "output_type": "stream",
     "text": [
      "MSFT 정보를 가져오는 중 오류 발생: Expecting value: line 1 column 1 (char 0)\n"
     ]
    },
    {
     "name": "stderr",
     "output_type": "stream",
     "text": [
      "429 Client Error: Too Many Requests for url: https://query2.finance.yahoo.com/v10/finance/quoteSummary/GOOG?modules=financialData%2CquoteType%2CdefaultKeyStatistics%2CassetProfile%2CsummaryDetail&corsDomain=finance.yahoo.com&formatted=false&symbol=GOOG&crumb=Edge%3A+Too+Many+Requests\n"
     ]
    },
    {
     "name": "stdout",
     "output_type": "stream",
     "text": [
      "GOOG 정보를 가져오는 중 오류 발생: Expecting value: line 1 column 1 (char 0)\n"
     ]
    },
    {
     "name": "stderr",
     "output_type": "stream",
     "text": [
      "429 Client Error: Too Many Requests for url: https://query2.finance.yahoo.com/v10/finance/quoteSummary/AMZN?modules=financialData%2CquoteType%2CdefaultKeyStatistics%2CassetProfile%2CsummaryDetail&corsDomain=finance.yahoo.com&formatted=false&symbol=AMZN&crumb=Edge%3A+Too+Many+Requests\n"
     ]
    },
    {
     "name": "stdout",
     "output_type": "stream",
     "text": [
      "AMZN 정보를 가져오는 중 오류 발생: Expecting value: line 1 column 1 (char 0)\n"
     ]
    },
    {
     "name": "stderr",
     "output_type": "stream",
     "text": [
      "429 Client Error: Too Many Requests for url: https://query2.finance.yahoo.com/v10/finance/quoteSummary/TSLA?modules=financialData%2CquoteType%2CdefaultKeyStatistics%2CassetProfile%2CsummaryDetail&corsDomain=finance.yahoo.com&formatted=false&symbol=TSLA&crumb=Edge%3A+Too+Many+Requests\n"
     ]
    },
    {
     "name": "stdout",
     "output_type": "stream",
     "text": [
      "TSLA 정보를 가져오는 중 오류 발생: Expecting value: line 1 column 1 (char 0)\n"
     ]
    }
   ],
   "source": [
    "import yfinance as yf\n",
    "import pandas as pd\n",
    "import os\n",
    "\n",
    "def get_us_stock_info(tickers):\n",
    "    \"\"\"\n",
    "    미국 주식 티커 목록을 받아 종목명과 종목 코드를 반환하는 함수\n",
    "    \"\"\"\n",
    "    stock_info = {}\n",
    "    for ticker in tickers:\n",
    "        try:\n",
    "            stock = yf.Ticker(ticker)\n",
    "            info = stock.info\n",
    "            if info and 'longName' in info:  # 'longName'이 있는지 확인\n",
    "                stock_info[ticker] = info['longName']\n",
    "            else:\n",
    "                print(f\"{ticker}에 대한 종목명을 찾을 수 없습니다.\")\n",
    "        except Exception as e:\n",
    "            print(f\"{ticker} 정보를 가져오는 중 오류 발생: {e}\")\n",
    "    return stock_info\n",
    "\n",
    "def save_to_excel(stock_info, filename):\n",
    "    \"\"\"\n",
    "    종목명과 종목 코드를 엑셀 파일에 저장하는 함수\n",
    "    \"\"\"\n",
    "    try:\n",
    "        df = pd.DataFrame.from_dict(stock_info, orient='index', columns=['종목명'])\n",
    "        df.index.name = '종목 코드'  # 인덱스 이름 설정\n",
    "\n",
    "        if os.path.exists(filename):\n",
    "            # 기존 파일에 데이터 추가 (append)\n",
    "            existing_df = pd.read_excel(filename)\n",
    "            updated_df = pd.concat([existing_df, df], ignore_index=True)\n",
    "            updated_df.to_excel(filename, index=False)\n",
    "        else:\n",
    "            # 새 파일 생성\n",
    "            df.to_excel(filename, index=True)  # 인덱스 (종목 코드) 포함\n",
    "\n",
    "        print(f\"종목 정보가 {filename}에 저장되었습니다.\")\n",
    "    except Exception as e:\n",
    "        print(f\"엑셀 파일 저장 중 오류 발생: {e}\")\n",
    "\n",
    "if __name__ == \"__main__\":\n",
    "    # 미국 주식 티커 목록 (예시) - 원하는 티커를 추가/수정 가능\n",
    "    tickers = [\"AAPL\", \"MSFT\", \"GOOG\", \"AMZN\", \"TSLA\"]\n",
    "\n",
    "    stock_info = get_us_stock_info(tickers)\n",
    "\n",
    "    if stock_info:\n",
    "        save_to_excel(stock_info, \"us_stock_info.xlsx\")"
   ]
  },
  {
   "cell_type": "code",
   "execution_count": 15,
   "id": "55cc61e5-98ba-4b9b-9e43-2684f1d445c2",
   "metadata": {},
   "outputs": [
    {
     "data": {
      "text/plain": [
       "'us_market_holidays_2025.csv'"
      ]
     },
     "execution_count": 15,
     "metadata": {},
     "output_type": "execute_result"
    }
   ],
   "source": [
    "import pandas as pd\n",
    "\n",
    "# 미국 주식시장 휴장일 데이터\n",
    "market_holidays = [\n",
    "    (\"New Year's Day\", \"2025/01/01\", \"신년 휴장\"),\n",
    "    (\"Martin Luther King Jr. Day\", \"2025/01/20\", \"마틴 루터 킹 데이 휴장\"),\n",
    "    (\"Presidents' Day\", \"2025/02/17\", \"대통령의 날 휴장\"),\n",
    "    (\"Good Friday\", \"2025/04/18\", \"성금요일 휴장\"),\n",
    "    (\"Memorial Day\", \"2025/05/26\", \"메모리얼 데이 휴장\"),\n",
    "    (\"Juneteenth National Independence Day\", \"2025/06/19\", \"준틴스 데이 휴장\"),\n",
    "    (\"Independence Day\", \"2025/07/04\", \"독립기념일 휴장\"),\n",
    "    (\"Labor Day\", \"2025/09/01\", \"노동절 휴장\"),\n",
    "    (\"Thanksgiving Day\", \"2025/11/27\", \"추수감사절 휴장\"),\n",
    "    (\"Christmas Day\", \"2025/12/25\", \"크리스마스 휴장\"),\n",
    "]\n",
    "\n",
    "# 데이터프레임 생성\n",
    "df = pd.DataFrame(market_holidays, columns=[\"Subject\", \"Start Date\", \"Description\"])\n",
    "\n",
    "# Google Calendar에 맞게 형식 조정\n",
    "df[\"All Day Event\"] = \"TRUE\"\n",
    "\n",
    "# CSV 저장\n",
    "csv_path = \"us_market_holidays_2025.csv\"\n",
    "df.to_csv(csv_path, index=False, encoding=\"utf-8\")\n",
    "\n",
    "csv_path\n"
   ]
  },
  {
   "cell_type": "code",
   "execution_count": 19,
   "id": "69b687f4-7a81-44a5-8732-6a7e57497522",
   "metadata": {},
   "outputs": [
    {
     "data": {
      "text/html": [
       "<div>\n",
       "<style scoped>\n",
       "    .dataframe tbody tr th:only-of-type {\n",
       "        vertical-align: middle;\n",
       "    }\n",
       "\n",
       "    .dataframe tbody tr th {\n",
       "        vertical-align: top;\n",
       "    }\n",
       "\n",
       "    .dataframe thead th {\n",
       "        text-align: right;\n",
       "    }\n",
       "</style>\n",
       "<table border=\"1\" class=\"dataframe\">\n",
       "  <thead>\n",
       "    <tr style=\"text-align: right;\">\n",
       "      <th></th>\n",
       "      <th>A</th>\n",
       "      <th>B</th>\n",
       "      <th>C</th>\n",
       "    </tr>\n",
       "  </thead>\n",
       "  <tbody>\n",
       "    <tr>\n",
       "      <th>2020-01-11</th>\n",
       "      <td>1</td>\n",
       "      <td>2</td>\n",
       "      <td>3</td>\n",
       "    </tr>\n",
       "    <tr>\n",
       "      <th>2020-01-12</th>\n",
       "      <td>4</td>\n",
       "      <td>5</td>\n",
       "      <td>6</td>\n",
       "    </tr>\n",
       "    <tr>\n",
       "      <th>2020-01-13</th>\n",
       "      <td>7</td>\n",
       "      <td>8</td>\n",
       "      <td>9</td>\n",
       "    </tr>\n",
       "    <tr>\n",
       "      <th>2020-01-14</th>\n",
       "      <td>10</td>\n",
       "      <td>11</td>\n",
       "      <td>12</td>\n",
       "    </tr>\n",
       "  </tbody>\n",
       "</table>\n",
       "</div>"
      ],
      "text/plain": [
       "             A   B   C\n",
       "2020-01-11   1   2   3\n",
       "2020-01-12   4   5   6\n",
       "2020-01-13   7   8   9\n",
       "2020-01-14  10  11  12"
      ]
     },
     "execution_count": 19,
     "metadata": {},
     "output_type": "execute_result"
    }
   ],
   "source": [
    "import numpy as np\n",
    "import pandas as pd\n",
    "data1 = [[1,2,3],[4,5,6],[7,8,9]]\n",
    "df = pd.DataFrame(data1)\n",
    "df\n",
    "\n",
    "data2 = np.array([[1,2,3],[4,5,6],[7,8,9],[10,11,12]])\n",
    "index_data=pd.date_range('2020-01-11',periods=4)\n",
    "columns_data=['A','B','C']\n",
    "\n",
    "\n",
    "pd.DataFrame(data2,index=index_data,columns=columns_data)"
   ]
  },
  {
   "cell_type": "code",
   "execution_count": 13,
   "id": "b76fb189-4f3a-4aa7-8e6b-dd0e976353af",
   "metadata": {},
   "outputs": [
    {
     "ename": "TypeError",
     "evalue": "DataFrame.to_string() got an unexpected keyword argument 'sep'",
     "output_type": "error",
     "traceback": [
      "\u001b[0;31m---------------------------------------------------------------------------\u001b[0m",
      "\u001b[0;31mTypeError\u001b[0m                                 Traceback (most recent call last)",
      "Cell \u001b[0;32mIn[13], line 14\u001b[0m\n\u001b[1;32m     10\u001b[0m df \u001b[38;5;241m=\u001b[39m pd\u001b[38;5;241m.\u001b[39mDataFrame(data)\n\u001b[1;32m     12\u001b[0m \u001b[38;5;66;03m# 데이터프레임 출력\u001b[39;00m\n\u001b[1;32m     13\u001b[0m \u001b[38;5;66;03m#print(df.to_string(index=False, col_space=10, sep=' | '))\u001b[39;00m\n\u001b[0;32m---> 14\u001b[0m \u001b[38;5;28mprint\u001b[39m(df\u001b[38;5;241m.\u001b[39mto_string(sep\u001b[38;5;241m=\u001b[39m\u001b[38;5;124m'\u001b[39m\u001b[38;5;124m:\u001b[39m\u001b[38;5;124m'\u001b[39m))\n",
      "File \u001b[0;32m/opt/anaconda3/lib/python3.12/site-packages/pandas/util/_decorators.py:333\u001b[0m, in \u001b[0;36mdeprecate_nonkeyword_arguments.<locals>.decorate.<locals>.wrapper\u001b[0;34m(*args, **kwargs)\u001b[0m\n\u001b[1;32m    327\u001b[0m \u001b[38;5;28;01mif\u001b[39;00m \u001b[38;5;28mlen\u001b[39m(args) \u001b[38;5;241m>\u001b[39m num_allow_args:\n\u001b[1;32m    328\u001b[0m     warnings\u001b[38;5;241m.\u001b[39mwarn(\n\u001b[1;32m    329\u001b[0m         msg\u001b[38;5;241m.\u001b[39mformat(arguments\u001b[38;5;241m=\u001b[39m_format_argument_list(allow_args)),\n\u001b[1;32m    330\u001b[0m         \u001b[38;5;167;01mFutureWarning\u001b[39;00m,\n\u001b[1;32m    331\u001b[0m         stacklevel\u001b[38;5;241m=\u001b[39mfind_stack_level(),\n\u001b[1;32m    332\u001b[0m     )\n\u001b[0;32m--> 333\u001b[0m \u001b[38;5;28;01mreturn\u001b[39;00m func(\u001b[38;5;241m*\u001b[39margs, \u001b[38;5;241m*\u001b[39m\u001b[38;5;241m*\u001b[39mkwargs)\n",
      "\u001b[0;31mTypeError\u001b[0m: DataFrame.to_string() got an unexpected keyword argument 'sep'"
     ]
    }
   ],
   "source": [
    "import pandas as pd\n",
    "\n",
    "# 예제 데이터프레임 생성\n",
    "data = {\n",
    "    'Name': ['Alice', 'Bob', 'Charlie'],\n",
    "    'Age': [25, 30, 35],\n",
    "    'City': ['Seoul', 'Busan', 'Incheon']\n",
    "}\n",
    "\n",
    "df = pd.DataFrame(data)\n",
    "\n",
    "# 데이터프레임 출력\n",
    "#print(df.to_string(index=False, col_space=10, sep=' | '))\n",
    "print(df.to_string(sep=':'))"
   ]
  },
  {
   "cell_type": "code",
   "execution_count": null,
   "id": "deb3fae4-e76d-4517-b367-5b0466f4142a",
   "metadata": {},
   "outputs": [],
   "source": []
  }
 ],
 "metadata": {
  "kernelspec": {
   "display_name": "Python [conda env:base] *",
   "language": "python",
   "name": "conda-base-py"
  },
  "language_info": {
   "codemirror_mode": {
    "name": "ipython",
    "version": 3
   },
   "file_extension": ".py",
   "mimetype": "text/x-python",
   "name": "python",
   "nbconvert_exporter": "python",
   "pygments_lexer": "ipython3",
   "version": "3.12.7"
  }
 },
 "nbformat": 4,
 "nbformat_minor": 5
}
