{
 "cells": [
  {
   "cell_type": "code",
   "execution_count": 1,
   "id": "3d9bb1d3-0952-432d-9283-e0bae699b118",
   "metadata": {},
   "outputs": [
    {
     "name": "stderr",
     "output_type": "stream",
     "text": [
      "Failed to get ticker 'QQQ' reason: Expecting value: line 1 column 1 (char 0)\n",
      "[*********************100%***********************]  1 of 1 completed\n",
      "\n",
      "1 Failed download:\n",
      "['QQQ']: YFTzMissingError('$%ticker%: possibly delisted; no timezone found')\n"
     ]
    },
    {
     "name": "stdout",
     "output_type": "stream",
     "text": [
      "QQQ 데이터가 없습니다.\n"
     ]
    }
   ],
   "source": [
    "import yfinance as yf\n",
    "import pandas as pd\n",
    "import datetime\n",
    "import os\n",
    "\n",
    "# QQQ 티커\n",
    "ticker = \"QQQ\"\n",
    "\n",
    "# 저장할 엑셀 파일 이름\n",
    "filename = \"qqq_data.xlsx\"\n",
    "\n",
    "# 2025년 시작 날짜\n",
    "start_date = \"2025-01-01\"\n",
    "\n",
    "# 2025년 마지막 날짜\n",
    "end_date = \"2025-12-31\"\n",
    "\n",
    "def get_qqq_data(ticker, start_date, end_date):\n",
    "    \"\"\"야후 파이낸스에서 QQQ 종목의 가격 데이터를 가져오는 함수\"\"\"\n",
    "    try:\n",
    "        data = yf.download(ticker, start=start_date, end=end_date)\n",
    "        if not data.empty:\n",
    "            return data['Adj Close']  # 수정 종가 반환\n",
    "        else:\n",
    "            print(f\"{ticker} 데이터가 없습니다.\")\n",
    "            return None\n",
    "    except Exception as e:\n",
    "        print(f\"{ticker} 데이터 다운로드 중 오류 발생: {e}\")\n",
    "        return None\n",
    "\n",
    "def save_to_excel(data, filename):\n",
    "    \"\"\"데이터를 엑셀 파일에 저장하는 함수\"\"\"\n",
    "    try:\n",
    "        if os.path.exists(filename):\n",
    "            # 기존 파일에 데이터 추가 (append)\n",
    "            existing_df = pd.read_excel(filename)\n",
    "            updated_df = pd.concat([existing_df, data], ignore_index=True)\n",
    "            updated_df.to_excel(filename, index=False)\n",
    "        else:\n",
    "            # 새 파일 생성\n",
    "            data.to_excel(filename, index=False)\n",
    "\n",
    "        print(f\"데이터가 {filename}에 저장되었습니다.\")\n",
    "    except Exception as e:\n",
    "        print(f\"엑셀 파일 저장 중 오류 발생: {e}\")\n",
    "\n",
    "if __name__ == \"__main__\":\n",
    "    qqq_data = get_qqq_data(ticker, start_date, end_date)\n",
    "\n",
    "    if qqq_data is not None:\n",
    "        save_to_excel(qqq_data, filename)"
   ]
  },
  {
   "cell_type": "code",
   "execution_count": 5,
   "id": "288442c1-fdc9-4d81-b21c-d4c3b0e383ab",
   "metadata": {},
   "outputs": [
    {
     "name": "stdout",
     "output_type": "stream",
     "text": [
      "/Users/ksh\n"
     ]
    }
   ],
   "source": [
    "import os\n",
    "print(os.getcwd())  # 현재 작업 디렉토리 출력"
   ]
  },
  {
   "cell_type": "code",
   "execution_count": null,
   "id": "a6d0ce1f-9374-427c-adf2-5f3f36de955e",
   "metadata": {},
   "outputs": [],
   "source": []
  }
 ],
 "metadata": {
  "kernelspec": {
   "display_name": "Python [conda env:miniforge3-newenv]",
   "language": "python",
   "name": "conda-env-miniforge3-newenv-py"
  },
  "language_info": {
   "codemirror_mode": {
    "name": "ipython",
    "version": 3
   },
   "file_extension": ".py",
   "mimetype": "text/x-python",
   "name": "python",
   "nbconvert_exporter": "python",
   "pygments_lexer": "ipython3",
   "version": "3.12.8"
  }
 },
 "nbformat": 4,
 "nbformat_minor": 5
}
